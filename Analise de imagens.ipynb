{
 "cells": [
  {
   "cell_type": "code",
   "execution_count": 1,
   "id": "f27b9ca2",
   "metadata": {},
   "outputs": [],
   "source": [
    "import rasterio as rio\n",
    "import matplotlib.pyplot as plt\n",
    "import numpy as np"
   ]
  },
  {
   "cell_type": "code",
   "execution_count": 34,
   "id": "d25a95de",
   "metadata": {},
   "outputs": [],
   "source": [
    "address = \"imagem1.tif\"\n",
    "image = rio.open(address).read()"
   ]
  },
  {
   "cell_type": "code",
   "execution_count": 35,
   "id": "70417f65",
   "metadata": {},
   "outputs": [
    {
     "data": {
      "text/plain": [
       "(3, 852, 1692)"
      ]
     },
     "execution_count": 35,
     "metadata": {},
     "output_type": "execute_result"
    }
   ],
   "source": [
    "image.shape"
   ]
  },
  {
   "cell_type": "code",
   "execution_count": 36,
   "id": "c5f6f1b0",
   "metadata": {},
   "outputs": [
    {
     "data": {
      "text/plain": [
       "(852, 1692, 3)"
      ]
     },
     "execution_count": 36,
     "metadata": {},
     "output_type": "execute_result"
    }
   ],
   "source": [
    "image = np.rollaxis(image, 0, 3)\n",
    "image.shape"
   ]
  },
  {
   "cell_type": "code",
   "execution_count": 37,
   "id": "3462ccc8",
   "metadata": {},
   "outputs": [
    {
     "data": {
      "text/plain": [
       "1"
      ]
     },
     "execution_count": 37,
     "metadata": {},
     "output_type": "execute_result"
    }
   ],
   "source": [
    "RGB = image[..., 3:0:-1]\n",
    "RGB.min()"
   ]
  },
  {
   "cell_type": "code",
   "execution_count": 38,
   "id": "1a09245e",
   "metadata": {},
   "outputs": [
    {
     "data": {
      "text/plain": [
       "255"
      ]
     },
     "execution_count": 38,
     "metadata": {},
     "output_type": "execute_result"
    }
   ],
   "source": [
    "RGB.max()"
   ]
  },
  {
   "cell_type": "code",
   "execution_count": 39,
   "id": "5576e4f8",
   "metadata": {},
   "outputs": [],
   "source": [
    "RGB = RGB / np.percentile(RGB, 99)"
   ]
  },
  {
   "cell_type": "code",
   "execution_count": 40,
   "id": "94529fdc",
   "metadata": {},
   "outputs": [],
   "source": [
    "fig, ax=plt.subplots(figsize=(15,15))"
   ]
  },
  {
   "cell_type": "code",
   "execution_count": null,
   "id": "65d4bad2",
   "metadata": {},
   "outputs": [],
   "source": []
  },
  {
   "cell_type": "code",
   "execution_count": 41,
   "id": "88373d5d",
   "metadata": {},
   "outputs": [],
   "source": [
    "from sklearn.cluster import KMeans"
   ]
  },
  {
   "cell_type": "code",
   "execution_count": 42,
   "id": "9970abde",
   "metadata": {},
   "outputs": [],
   "source": [
    "height, width = image.shape[:2]"
   ]
  },
  {
   "cell_type": "code",
   "execution_count": 43,
   "id": "b5aff1fb",
   "metadata": {},
   "outputs": [],
   "source": [
    "X = image.reshape((height*width, 3))"
   ]
  },
  {
   "cell_type": "code",
   "execution_count": 44,
   "id": "9d50e566",
   "metadata": {},
   "outputs": [
    {
     "data": {
      "text/plain": [
       "(1441584, 3)"
      ]
     },
     "execution_count": 44,
     "metadata": {},
     "output_type": "execute_result"
    }
   ],
   "source": [
    "X.shape"
   ]
  },
  {
   "cell_type": "code",
   "execution_count": null,
   "id": "c909a67d",
   "metadata": {},
   "outputs": [],
   "source": [
    "kmeans = KMeans(n_clusters=4).fit(X)"
   ]
  },
  {
   "cell_type": "code",
   "execution_count": 18,
   "id": "219232d4",
   "metadata": {},
   "outputs": [
    {
     "data": {
      "text/plain": [
       "(1441584,)"
      ]
     },
     "execution_count": 18,
     "metadata": {},
     "output_type": "execute_result"
    }
   ],
   "source": [
    "kmeans.labels_.shape"
   ]
  },
  {
   "cell_type": "code",
   "execution_count": 19,
   "id": "1c448ee3",
   "metadata": {},
   "outputs": [],
   "source": [
    "labels = kmeans.labels_.reshape((height, width))"
   ]
  },
  {
   "cell_type": "code",
   "execution_count": 20,
   "id": "9832eca7",
   "metadata": {},
   "outputs": [
    {
     "data": {
      "text/plain": [
       "(852, 1692)"
      ]
     },
     "execution_count": 20,
     "metadata": {},
     "output_type": "execute_result"
    }
   ],
   "source": [
    "labels.shape"
   ]
  },
  {
   "cell_type": "code",
   "execution_count": 33,
   "id": "5c3b25dc",
   "metadata": {},
   "outputs": [
    {
     "data": {
      "text/plain": [
       "<matplotlib.image.AxesImage at 0x242db04a948>"
      ]
     },
     "execution_count": 33,
     "metadata": {},
     "output_type": "execute_result"
    }
   ],
   "source": [
    "fig, ax = plt.subplots(figsize=(3,3))\n",
    "ax.imshow(labels)"
   ]
  },
  {
   "cell_type": "code",
   "execution_count": null,
   "id": "a0e86d4e",
   "metadata": {},
   "outputs": [],
   "source": []
  },
  {
   "cell_type": "code",
   "execution_count": null,
   "id": "1e850d1b",
   "metadata": {},
   "outputs": [],
   "source": []
  },
  {
   "cell_type": "code",
   "execution_count": null,
   "id": "943f1e37",
   "metadata": {},
   "outputs": [],
   "source": []
  }
 ],
 "metadata": {
  "kernelspec": {
   "display_name": "Python 3",
   "language": "python",
   "name": "python3"
  },
  "language_info": {
   "codemirror_mode": {
    "name": "ipython",
    "version": 3
   },
   "file_extension": ".py",
   "mimetype": "text/x-python",
   "name": "python",
   "nbconvert_exporter": "python",
   "pygments_lexer": "ipython3",
   "version": "3.7.9"
  }
 },
 "nbformat": 4,
 "nbformat_minor": 5
}
