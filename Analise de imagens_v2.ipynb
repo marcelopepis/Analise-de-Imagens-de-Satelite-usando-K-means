{
 "cells": [
  {
   "cell_type": "code",
   "execution_count": 95,
   "id": "2448258b",
   "metadata": {},
   "outputs": [],
   "source": [
    "from sklearn.cluster import KMeans\n",
    "import rasterio \n",
    "import numpy as np\n",
    "import matplotlib.pyplot as plt\n",
    "import natsort\n",
    "import cv2\n"
   ]
  },
  {
   "cell_type": "code",
   "execution_count": 96,
   "id": "c25915f3",
   "metadata": {},
   "outputs": [],
   "source": [
    "img = cv2.imread('ortigueira_2021.jpg')"
   ]
  },
  {
   "cell_type": "code",
   "execution_count": 97,
   "id": "9f872c0d",
   "metadata": {},
   "outputs": [],
   "source": [
    "img2 = img.reshape((-1, 3))"
   ]
  },
  {
   "cell_type": "code",
   "execution_count": 98,
   "id": "0aac622d",
   "metadata": {},
   "outputs": [],
   "source": [
    "img2 = np.float32(img2)"
   ]
  },
  {
   "cell_type": "code",
   "execution_count": 99,
   "id": "a4e1e567",
   "metadata": {},
   "outputs": [],
   "source": [
    "criteria = (cv2.TERM_CRITERIA_EPS + cv2.TERM_CRITERIA_MAX_ITER, 10, 1.0)"
   ]
  },
  {
   "cell_type": "code",
   "execution_count": 100,
   "id": "015c0074",
   "metadata": {},
   "outputs": [],
   "source": [
    "k = 2"
   ]
  },
  {
   "cell_type": "code",
   "execution_count": 101,
   "id": "5de332d7",
   "metadata": {},
   "outputs": [],
   "source": [
    "attempts = 10"
   ]
  },
  {
   "cell_type": "code",
   "execution_count": 102,
   "id": "f92efd67",
   "metadata": {},
   "outputs": [],
   "source": [
    "ret,label,center=cv2.kmeans(img2,k,None,criteria,attempts,cv2.KMEANS_RANDOM_CENTERS)"
   ]
  },
  {
   "cell_type": "code",
   "execution_count": 103,
   "id": "d72182d1",
   "metadata": {},
   "outputs": [],
   "source": [
    "center = np.uint8(center)"
   ]
  },
  {
   "cell_type": "code",
   "execution_count": 104,
   "id": "c72f5870",
   "metadata": {},
   "outputs": [],
   "source": [
    "res = center[label.flatten()]"
   ]
  },
  {
   "cell_type": "code",
   "execution_count": 105,
   "id": "ee48d59f",
   "metadata": {},
   "outputs": [],
   "source": [
    "res2 = res.reshape((img.shape))"
   ]
  },
  {
   "cell_type": "code",
   "execution_count": 106,
   "id": "0ccb5f3b",
   "metadata": {},
   "outputs": [
    {
     "data": {
      "text/plain": [
       "True"
      ]
     },
     "execution_count": 106,
     "metadata": {},
     "output_type": "execute_result"
    }
   ],
   "source": [
    "cv2.imwrite('ortigueira_2021K.jpg', res2)"
   ]
  },
  {
   "cell_type": "code",
   "execution_count": null,
   "id": "46cd4025",
   "metadata": {},
   "outputs": [],
   "source": []
  }
 ],
 "metadata": {
  "kernelspec": {
   "display_name": "Python 3",
   "language": "python",
   "name": "python3"
  },
  "language_info": {
   "codemirror_mode": {
    "name": "ipython",
    "version": 3
   },
   "file_extension": ".py",
   "mimetype": "text/x-python",
   "name": "python",
   "nbconvert_exporter": "python",
   "pygments_lexer": "ipython3",
   "version": "3.7.9"
  }
 },
 "nbformat": 4,
 "nbformat_minor": 5
}
