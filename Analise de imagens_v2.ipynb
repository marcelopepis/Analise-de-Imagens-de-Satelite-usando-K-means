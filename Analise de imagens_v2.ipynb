{
 "cells": [
  {
   "cell_type": "code",
   "execution_count": 53,
   "id": "9c4c53c6",
   "metadata": {},
   "outputs": [],
   "source": [
    "import numpy as np\n",
    "import matplotlib.pyplot as plt\n",
    "import natsort\n",
    "import cv2\n"
   ]
  },
  {
   "cell_type": "markdown",
   "id": "afceff53",
   "metadata": {},
   "source": [
    "### Lendo duas imagens com o OpenCV uma com o terreno em seu estado anterior, e outra\n",
    "### com o terreno no estado atual."
   ]
  },
  {
   "cell_type": "code",
   "execution_count": 54,
   "id": "cf88b2a1",
   "metadata": {},
   "outputs": [],
   "source": [
    "img_previous = cv2.imread('ortigueira_2018.jpg')"
   ]
  },
  {
   "cell_type": "code",
   "execution_count": 55,
   "id": "2bd8f6bf",
   "metadata": {},
   "outputs": [],
   "source": [
    "img_current = cv2.imread('ortigueira_2021.jpg')"
   ]
  },
  {
   "cell_type": "code",
   "execution_count": 56,
   "id": "6b05a347",
   "metadata": {},
   "outputs": [],
   "source": [
    "img2_previous = img_previous.reshape((-1, 3))"
   ]
  },
  {
   "cell_type": "code",
   "execution_count": 57,
   "id": "ac256bbb",
   "metadata": {},
   "outputs": [],
   "source": [
    "img2_current = img_current.reshape((-1, 3))"
   ]
  },
  {
   "cell_type": "code",
   "execution_count": 58,
   "id": "825fc45f",
   "metadata": {},
   "outputs": [],
   "source": [
    "img2_previous = np.float32(img2_previous)"
   ]
  },
  {
   "cell_type": "code",
   "execution_count": 59,
   "id": "1b66a9e9",
   "metadata": {},
   "outputs": [],
   "source": [
    "img2_current = np.float32(img2_current)"
   ]
  },
  {
   "cell_type": "code",
   "execution_count": 60,
   "id": "890679a2",
   "metadata": {},
   "outputs": [],
   "source": [
    "criteria = (cv2.TERM_CRITERIA_EPS + cv2.TERM_CRITERIA_MAX_ITER, 10, 1.0)"
   ]
  },
  {
   "cell_type": "markdown",
   "id": "365a565d",
   "metadata": {},
   "source": [
    "### ------------------------------"
   ]
  },
  {
   "cell_type": "markdown",
   "id": "72a31adf",
   "metadata": {},
   "source": [
    "### usando dois clusters, 1 para áreas com floresta e outro para áreas sem floresta"
   ]
  },
  {
   "cell_type": "code",
   "execution_count": 61,
   "id": "92acffea",
   "metadata": {},
   "outputs": [],
   "source": [
    "k = 2"
   ]
  },
  {
   "cell_type": "code",
   "execution_count": 62,
   "id": "de5c4e9a",
   "metadata": {},
   "outputs": [],
   "source": [
    "attempts = 10"
   ]
  },
  {
   "cell_type": "markdown",
   "id": "5f7b5c3d",
   "metadata": {},
   "source": [
    "# Calculos da primeira imagem usando Kmeans"
   ]
  },
  {
   "cell_type": "code",
   "execution_count": null,
   "id": "317c05ec",
   "metadata": {},
   "outputs": [],
   "source": []
  },
  {
   "cell_type": "code",
   "execution_count": 63,
   "id": "dfcb883a",
   "metadata": {},
   "outputs": [],
   "source": [
    "ret_previous,label_previous,center_previous=cv2.kmeans(img2_previous,k,None,criteria,attempts,cv2.KMEANS_RANDOM_CENTERS)\n"
   ]
  },
  {
   "cell_type": "markdown",
   "id": "e9c77c47",
   "metadata": {},
   "source": []
  },
  {
   "cell_type": "markdown",
   "id": "81622e74",
   "metadata": {},
   "source": [
    "# Calculos da Segunda imagem, usando Kmeans"
   ]
  },
  {
   "cell_type": "code",
   "execution_count": 64,
   "id": "86559feb",
   "metadata": {},
   "outputs": [],
   "source": [
    "ret_current,label_current,center_current=cv2.kmeans(img2_current,k,None,criteria,attempts,cv2.KMEANS_RANDOM_CENTERS)"
   ]
  },
  {
   "cell_type": "markdown",
   "id": "47aad679",
   "metadata": {},
   "source": [
    "### --------------------------"
   ]
  },
  {
   "cell_type": "markdown",
   "id": "032ce7c0",
   "metadata": {},
   "source": [
    "### calculando a quantidade de membros em cada cluster"
   ]
  },
  {
   "cell_type": "code",
   "execution_count": 65,
   "id": "05165898",
   "metadata": {},
   "outputs": [],
   "source": [
    "unique, counts = np.unique(label_previous, return_counts=True)"
   ]
  },
  {
   "cell_type": "code",
   "execution_count": 66,
   "id": "eceb7d51",
   "metadata": {},
   "outputs": [],
   "source": [
    "florest_previous = dict(zip(unique, counts))"
   ]
  },
  {
   "cell_type": "code",
   "execution_count": 67,
   "id": "9cdc0c46",
   "metadata": {},
   "outputs": [
    {
     "data": {
      "text/plain": [
       "685625"
      ]
     },
     "execution_count": 67,
     "metadata": {},
     "output_type": "execute_result"
    }
   ],
   "source": [
    "florest_previous[1]"
   ]
  },
  {
   "cell_type": "code",
   "execution_count": 68,
   "id": "7d7af91e",
   "metadata": {},
   "outputs": [],
   "source": [
    "unique, counts = np.unique(label_current, return_counts=True)"
   ]
  },
  {
   "cell_type": "code",
   "execution_count": 69,
   "id": "9f423cd4",
   "metadata": {},
   "outputs": [],
   "source": [
    "florest_current = dict(zip(unique, counts))"
   ]
  },
  {
   "cell_type": "code",
   "execution_count": 80,
   "id": "f5563390",
   "metadata": {},
   "outputs": [
    {
     "data": {
      "text/plain": [
       "543584"
      ]
     },
     "execution_count": 80,
     "metadata": {},
     "output_type": "execute_result"
    }
   ],
   "source": [
    "florest_current[1]"
   ]
  },
  {
   "cell_type": "markdown",
   "id": "a47465ce",
   "metadata": {},
   "source": [
    "### Calcula a diferença entre quantidade de \"floresta\" na primeira imagem comparada com a segunda."
   ]
  },
  {
   "cell_type": "code",
   "execution_count": 81,
   "id": "d4d176a7",
   "metadata": {},
   "outputs": [
    {
     "data": {
      "text/plain": [
       "26.13046005769118"
      ]
     },
     "execution_count": 81,
     "metadata": {},
     "output_type": "execute_result"
    }
   ],
   "source": [
    "(florest_previous[1]/florest_current[1])*100 -100"
   ]
  },
  {
   "cell_type": "markdown",
   "id": "d641236e",
   "metadata": {},
   "source": [
    "### ------------------------------"
   ]
  },
  {
   "cell_type": "markdown",
   "id": "476a16f6",
   "metadata": {},
   "source": [
    "### Salvando o resultado da primeira imagem."
   ]
  },
  {
   "cell_type": "code",
   "execution_count": 72,
   "id": "58b8cb9f",
   "metadata": {},
   "outputs": [],
   "source": [
    "center_previous = np.uint8(center)"
   ]
  },
  {
   "cell_type": "code",
   "execution_count": 73,
   "id": "a88432a0",
   "metadata": {},
   "outputs": [],
   "source": [
    "ret_previous = center_previous[label_previous.flatten()]"
   ]
  },
  {
   "cell_type": "code",
   "execution_count": 74,
   "id": "48bbd64d",
   "metadata": {},
   "outputs": [],
   "source": [
    "ret_previous2 = ret_previous.reshape((img_previous.shape))"
   ]
  },
  {
   "cell_type": "code",
   "execution_count": 75,
   "id": "d6cb358a",
   "metadata": {},
   "outputs": [
    {
     "data": {
      "text/plain": [
       "True"
      ]
     },
     "execution_count": 75,
     "metadata": {},
     "output_type": "execute_result"
    }
   ],
   "source": [
    "cv2.imwrite('ortigueira_2018K.jpg', ret_previous2)"
   ]
  },
  {
   "cell_type": "markdown",
   "id": "b929213f",
   "metadata": {},
   "source": [
    "### Salvando o resultado da segunda imagem."
   ]
  },
  {
   "cell_type": "code",
   "execution_count": 76,
   "id": "8b397981",
   "metadata": {},
   "outputs": [],
   "source": [
    "center_current = np.uint8(center)"
   ]
  },
  {
   "cell_type": "code",
   "execution_count": 77,
   "id": "18c420ee",
   "metadata": {},
   "outputs": [],
   "source": [
    "ret_current = center_current[label_current.flatten()]"
   ]
  },
  {
   "cell_type": "code",
   "execution_count": 78,
   "id": "bcdd1793",
   "metadata": {},
   "outputs": [],
   "source": [
    "ret_current2 = ret_current.reshape((img_current.shape))"
   ]
  },
  {
   "cell_type": "code",
   "execution_count": 79,
   "id": "eaf245d5",
   "metadata": {},
   "outputs": [
    {
     "data": {
      "text/plain": [
       "True"
      ]
     },
     "execution_count": 79,
     "metadata": {},
     "output_type": "execute_result"
    }
   ],
   "source": [
    "cv2.imwrite('ortigueira_2021K.jpg', ret_current2)"
   ]
  },
  {
   "cell_type": "code",
   "execution_count": null,
   "id": "6923c81e",
   "metadata": {},
   "outputs": [],
   "source": []
  },
  {
   "cell_type": "code",
   "execution_count": null,
   "id": "c95751ba",
   "metadata": {},
   "outputs": [],
   "source": []
  },
  {
   "cell_type": "code",
   "execution_count": null,
   "id": "fb2c1546",
   "metadata": {},
   "outputs": [],
   "source": []
  }
 ],
 "metadata": {
  "kernelspec": {
   "display_name": "Python 3",
   "language": "python",
   "name": "python3"
  },
  "language_info": {
   "codemirror_mode": {
    "name": "ipython",
    "version": 3
   },
   "file_extension": ".py",
   "mimetype": "text/x-python",
   "name": "python",
   "nbconvert_exporter": "python",
   "pygments_lexer": "ipython3",
   "version": "3.7.9"
  }
 },
 "nbformat": 4,
 "nbformat_minor": 5
}
